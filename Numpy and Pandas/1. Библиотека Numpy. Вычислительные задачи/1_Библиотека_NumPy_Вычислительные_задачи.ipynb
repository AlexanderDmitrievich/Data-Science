{
  "cells": [
    {
      "cell_type": "markdown",
      "metadata": {
        "id": "rDMlc5q9oT3Q"
      },
      "source": [
        "# Задание 1\n",
        "Создайте numpy array с элементами от числа N до 0. Например, для N = 10 это будет array([9, 8, 7, 6, 5, 4, 3, 2, 1, 0]))."
      ]
    },
    {
      "cell_type": "code",
      "execution_count": null,
      "metadata": {
        "id": "p6njrsbgoT3T"
      },
      "outputs": [],
      "source": [
        "import numpy as np"
      ]
    },
    {
      "cell_type": "code",
      "execution_count": null,
      "metadata": {
        "id": "UtxzDpH4oT3V",
        "outputId": "62426d66-9d3f-4397-fba1-f718512d5217"
      },
      "outputs": [
        {
          "name": "stdout",
          "output_type": "stream",
          "text": [
            "3\n"
          ]
        },
        {
          "data": {
            "text/plain": [
              "array([3, 2, 1, 0])"
            ]
          },
          "execution_count": 48,
          "metadata": {},
          "output_type": "execute_result"
        }
      ],
      "source": [
        "x = []\n",
        "n = int(input())\n",
        "\n",
        "if n < 0:\n",
        "    print ('Введите положительное число')\n",
        "else:\n",
        "    while n >= 0:\n",
        "        x.append(n)\n",
        "        n = n - 1\n",
        "\n",
        "y = np.array(x)\n",
        "y"
      ]
    },
    {
      "cell_type": "markdown",
      "metadata": {
        "id": "KZ-TPtYEoT3W"
      },
      "source": [
        "# Задание 2\n",
        "Создайте диагональную матрицу с элементами от N до 0. Посчитайте сумму её значений на диагонали."
      ]
    },
    {
      "cell_type": "code",
      "execution_count": null,
      "metadata": {
        "id": "zXTEvYdooT3X",
        "outputId": "00339e64-8ffb-4035-84e6-4fbb732e4bc8"
      },
      "outputs": [
        {
          "name": "stdout",
          "output_type": "stream",
          "text": [
            "5\n"
          ]
        },
        {
          "data": {
            "text/plain": [
              "15"
            ]
          },
          "execution_count": 64,
          "metadata": {},
          "output_type": "execute_result"
        }
      ],
      "source": [
        "n = int(input())\n",
        "m = np.diag(np.arange(n,0,-1))\n",
        "summ = 0\n",
        "if n < 0:\n",
        "    print ('Введите положительное число')\n",
        "else:\n",
        "    for line in m:\n",
        "        for num in line:\n",
        "            summ += num\n",
        "summ\n",
        ""
      ]
    },
    {
      "cell_type": "markdown",
      "metadata": {
        "id": "ICRxV5H5oT3X"
      },
      "source": [
        "# Задание 3\n",
        "Решите систему уравнений:\n",
        "4x + 2y + z = 4\n",
        "x + 3y = 12\n",
        "5y + 4z = -3"
      ]
    },
    {
      "cell_type": "code",
      "execution_count": null,
      "metadata": {
        "id": "jmjhe4K8oT3X"
      },
      "outputs": [],
      "source": [
        "from numpy import linalg"
      ]
    },
    {
      "cell_type": "code",
      "execution_count": null,
      "metadata": {
        "id": "WVR74Tc1oT3Y",
        "outputId": "289caf7c-6a38-416d-ce4f-99afc55f910d"
      },
      "outputs": [
        {
          "data": {
            "text/plain": [
              "array([ 0.46666667,  3.84444444, -5.55555556])"
            ]
          },
          "execution_count": 68,
          "metadata": {},
          "output_type": "execute_result"
        }
      ],
      "source": [
        "#4x + 2y + z = 4\n",
        "#x + 3y = 12\n",
        "#5y + 4z = -3\n",
        "\n",
        "a = np.array( [ [4, 2, 1], [1, 3, 0], [0, 5, 4] ] )\n",
        "b = np.array( [4, 12, -3] )\n",
        "linalg.solve(a, b)"
      ]
    },
    {
      "cell_type": "markdown",
      "metadata": {
        "id": "y0A0WrEqoT3Y"
      },
      "source": [
        "# Задание 4\n",
        "Задание и входные данные к нему находятся в материалах занятия: ноутбук к лекции «Библиотека NumPy. Вычислительные задачи» ---- Python_9_Numpy.ipynb ---- Косинусное сходство между векторами ---- Задача 4 домашнего задания."
      ]
    },
    {
      "cell_type": "code",
      "execution_count": null,
      "metadata": {
        "id": "ThLkqPZloT3Z"
      },
      "outputs": [],
      "source": [
        "users_stats = np.array(\n",
        "    [\n",
        "        [2, 1, 0, 0, 0, 0],\n",
        "        [1, 1, 2, 1, 0, 0],\n",
        "        [2, 0, 1, 0, 0, 0],\n",
        "        [1, 1, 2, 1, 0, 1],\n",
        "        [0, 0, 1, 2, 0, 0],\n",
        "        [0, 0, 0, 0, 0, 5],\n",
        "        [1, 0, 0, 0, 0, 0],\n",
        "        [0, 1, 1, 0, 0, 0],\n",
        "        [0, 0, 0, 1, 1, 3],\n",
        "        [1, 0, 0, 2, 1, 4]\n",
        "    ],\n",
        "    np.int32\n",
        ")"
      ]
    },
    {
      "cell_type": "code",
      "execution_count": null,
      "metadata": {
        "id": "yxENuiXYoT3Z"
      },
      "outputs": [],
      "source": [
        "next_user_stats = np.array([0, 1, 2, 0, 0, 0])"
      ]
    },
    {
      "cell_type": "code",
      "execution_count": null,
      "metadata": {
        "id": "7Hn7Csh9oT3Z"
      },
      "outputs": [],
      "source": [
        "import matplotlib.pyplot as plt"
      ]
    },
    {
      "cell_type": "code",
      "execution_count": null,
      "metadata": {
        "id": "xlqQ0_HloT3a"
      },
      "outputs": [],
      "source": [
        "from numpy import linalg"
      ]
    },
    {
      "cell_type": "code",
      "execution_count": null,
      "metadata": {
        "id": "Jk7FQCgyoT3a"
      },
      "outputs": [],
      "source": [
        "def cosine( a, b ):\n",
        "    \"\"\"\n",
        "    Подсчет косинуса угла между векторами a, b по их координатам\n",
        "    \"\"\"\n",
        "\n",
        "    # длины векторов\n",
        "    aLength = np.linalg.norm( a )\n",
        "    bLength = np.linalg.norm( b )\n",
        "\n",
        "    return np.dot( a, b ) / ( aLength * bLength )"
      ]
    },
    {
      "cell_type": "code",
      "execution_count": null,
      "metadata": {
        "id": "BZkL8DuqoT3a",
        "outputId": "933b371e-544e-4e94-8a46-cc7988a0827e"
      },
      "outputs": [
        {
          "name": "stdout",
          "output_type": "stream",
          "text": [
            "Самый похожий пользователь имеет индекс : 7\n"
          ]
        }
      ],
      "source": [
        "spis = []\n",
        "for line in users_stats:\n",
        "    coss = cosine(line, next_user_stats)\n",
        "    spis.append(coss)\n",
        "for i in enumerate(spis):\n",
        "    if i[1] == max(spis):\n",
        "        print (f'Самый похожий пользователь имеет индекс :' , i[0])\n"
      ]
    }
  ],
  "metadata": {
    "kernelspec": {
      "display_name": "Python 3",
      "language": "python",
      "name": "python3"
    },
    "language_info": {
      "codemirror_mode": {
        "name": "ipython",
        "version": 3
      },
      "file_extension": ".py",
      "mimetype": "text/x-python",
      "name": "python",
      "nbconvert_exporter": "python",
      "pygments_lexer": "ipython3",
      "version": "3.8.5"
    },
    "colab": {
      "provenance": []
    }
  },
  "nbformat": 4,
  "nbformat_minor": 0
}