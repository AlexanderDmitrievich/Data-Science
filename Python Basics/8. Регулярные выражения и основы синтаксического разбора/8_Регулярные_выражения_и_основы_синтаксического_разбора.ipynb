{
  "cells": [
    {
      "cell_type": "markdown",
      "metadata": {
        "id": "8fxmKOij-H1j"
      },
      "source": [
        "# Задание 1\n",
        "Напишите функцию, которая принимает на вход строку и проверяет, является ли она валидным транспортным номером (1 буква, 3 цифры, 2 буквы, 2–3 цифры). Обратите внимание, что не все буквы кириллического алфавита используются в транспортных номерах.\n",
        "\n",
        "Если номер валиден, то функция должна возвращать отдельно номер и регион.\n",
        "\n",
        "Примеры работы программы:\n",
        "\n",
        "car_id = 'A222BC96’\n",
        "\n",
        "Результат: Номер A222BС валиден. Регион: 96\n",
        "\n",
        "car_id = 'АБ22ВВ193’\n",
        "\n",
        "Результат: Номер не валиден"
      ]
    },
    {
      "cell_type": "code",
      "execution_count": null,
      "metadata": {
        "id": "wREeiVe4-H1n"
      },
      "outputs": [],
      "source": [
        "import re"
      ]
    },
    {
      "cell_type": "code",
      "execution_count": null,
      "metadata": {
        "id": "gTHDorp4-H1p",
        "outputId": "b506545b-6f92-49f0-abd3-f6f767853dde"
      },
      "outputs": [
        {
          "name": "stdout",
          "output_type": "stream",
          "text": [
            "Введите номер автоA001AA77\n",
            "Номер A001AA валиден. Регион: 77\n"
          ]
        }
      ],
      "source": [
        "car_id = input('Введите номер авто')\n",
        "try:\n",
        "    number_auto = re.findall(r'([ETYOPAHKXCBM]{1}\\d{3}[ETYOPAHKXCBM]{2})(\\d{2,3})', car_id)\n",
        "    print(f'Номер {number_auto[0][0]} валиден. Регион: {number_auto[0][1]}')\n",
        "except:\n",
        "    print('Номер не валиден')\n"
      ]
    },
    {
      "cell_type": "markdown",
      "metadata": {
        "id": "BpqTi-gQ-H1s"
      },
      "source": [
        "# Задание 2\n",
        "Напишите функцию, которая будет удалять все последовательные повторы слов из заданной строки при помощи регулярных выражений.\n",
        "\n",
        "Пример работы программы:\n",
        "\n",
        "some_string = ‘Напишите функцию функцию, которая будет будет будет будет удалять все все все все последовательные повторы слов из из из из заданной строки строки при помощи регулярных выражений.’\n",
        "\n",
        "Результат:\n",
        "Напишите функцию, которая будет удалять все последовательные повторы слов из заданной строки при помощи регулярных выражений."
      ]
    },
    {
      "cell_type": "code",
      "execution_count": null,
      "metadata": {
        "id": "Jbl9kGpl-H1s",
        "outputId": "1a9117bd-904b-4f92-eec2-c86f7e086de8"
      },
      "outputs": [
        {
          "data": {
            "text/plain": [
              "'Напишите функцию, которая будет будет удалять все все последовательные повторы слов из из заданной строки при помощи регулярных выражений'"
            ]
          },
          "execution_count": 62,
          "metadata": {},
          "output_type": "execute_result"
        }
      ],
      "source": [
        "some_string = 'Напишите функцию функцию, которая будет будет будет будет удалять все все все все последовательные повторы слов из из из из заданной строки строки при помощи регулярных выражений'\n",
        "\n",
        "re.sub(r'(\\w+)\\s\\1+', r'\\1', some_string)"
      ]
    },
    {
      "cell_type": "markdown",
      "metadata": {
        "id": "LUmdwbRt-H1t"
      },
      "source": [
        "# Задание 3\n",
        "Напишите функцию, которая будет возвращать акроним по переданной в неё строке со словами.\n",
        "\n",
        "Примеры работы программы:\n",
        "\n",
        "some_words = 'Информационные технологии’\n",
        "Результат: ИТ\n",
        "\n",
        "some_words = 'Near Field Communication’\n",
        "Результат: NFC"
      ]
    },
    {
      "cell_type": "code",
      "execution_count": null,
      "metadata": {
        "id": "XN1iYcE2-H1t",
        "outputId": "598ab2ed-4486-4e90-ba77-dfd19f111208"
      },
      "outputs": [
        {
          "name": "stdout",
          "output_type": "stream",
          "text": [
            "Input wordsdbgheqb blqnb\n"
          ]
        },
        {
          "data": {
            "text/plain": [
              "'D B'"
            ]
          },
          "execution_count": 109,
          "metadata": {},
          "output_type": "execute_result"
        }
      ],
      "source": [
        "some_words = input('Input words')\n",
        "words = re.sub(r'(\\w{1})(\\w+)', r'\\1', some_words)\n",
        "\n",
        "words.upper()\n"
      ]
    },
    {
      "cell_type": "markdown",
      "metadata": {
        "id": "OlONnc5r-H1u"
      },
      "source": [
        "# Задание 4\n",
        "Напишите функцию, которая будет принимать на вход список email-адресов и выводить их распределение по доменным зонам.\n",
        "\n",
        "Пример работы программы:\n",
        "\n",
        "emails = [‘test@gmail.com’, ‘xyz@test.in’, ‘test@ya.ru’, ‘xyz@mail.ru’, ‘xyz@ya.ru’, ‘xyz@gmail.com’]\n",
        "\n",
        "Результат:\n",
        "\n",
        "gmail.com: 2\n",
        "test.in: 1\n",
        "ya.ru: 2\n",
        "mail.ru: 1"
      ]
    },
    {
      "cell_type": "code",
      "execution_count": null,
      "metadata": {
        "id": "Yz5EEUv1-H1u",
        "outputId": "9b51166a-49b1-4149-aff3-2d234a850a2f"
      },
      "outputs": [
        {
          "data": {
            "text/plain": [
              "{'@gmail.com': 2, '@test.in': 1, '@ya.ru': 2, '@mail.ru': 1}"
            ]
          },
          "execution_count": 125,
          "metadata": {},
          "output_type": "execute_result"
        }
      ],
      "source": [
        "emails = 'test@gmail.com, xyz@test.in, test@ya.ru, xyz@mail.ru, xyz@ya.ru, xyz@gmail.com'\n",
        "\n",
        "mail = re.findall(r'(\\w+)(@\\w+\\.\\w{2,3})', emails)\n",
        "\n",
        "domens = {}\n",
        "\n",
        "for keys, values in mail:\n",
        "    if values in domens:\n",
        "        domens[values] += 1\n",
        "    else:\n",
        "        domens[values] = 1\n",
        "\n",
        "domens\n",
        "\n",
        "\n"
      ]
    }
  ],
  "metadata": {
    "kernelspec": {
      "display_name": "Python 3",
      "language": "python",
      "name": "python3"
    },
    "language_info": {
      "codemirror_mode": {
        "name": "ipython",
        "version": 3
      },
      "file_extension": ".py",
      "mimetype": "text/x-python",
      "name": "python",
      "nbconvert_exporter": "python",
      "pygments_lexer": "ipython3",
      "version": "3.8.5"
    },
    "colab": {
      "provenance": []
    }
  },
  "nbformat": 4,
  "nbformat_minor": 0
}