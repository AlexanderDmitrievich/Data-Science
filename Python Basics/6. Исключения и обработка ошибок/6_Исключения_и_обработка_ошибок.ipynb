{
  "cells": [
    {
      "cell_type": "markdown",
      "metadata": {
        "id": "t6BDWQXAyt_h"
      },
      "source": [
        "# Задание 1\n",
        "Печатные газеты использовали свой формат дат для каждого выпуска. Для каждой газеты из списка напишите формат указанной даты для перевода в объект datetime:\n",
        "\n",
        "The Moscow Times — Wednesday, October 2, 2002\n",
        "\n",
        "The Guardian — Friday, 11.10.13\n",
        "\n",
        "Daily News — Thursday, 18 August 1977"
      ]
    },
    {
      "cell_type": "code",
      "execution_count": 1,
      "metadata": {
        "id": "9X1ZCSBNyt_j"
      },
      "outputs": [],
      "source": [
        "from datetime import datetime"
      ]
    },
    {
      "cell_type": "code",
      "execution_count": null,
      "metadata": {
        "id": "9oYAFERUyt_j"
      },
      "outputs": [],
      "source": [
        "date_string_TMT = 'Wednesday, October 2, 2002'"
      ]
    },
    {
      "cell_type": "code",
      "execution_count": null,
      "metadata": {
        "id": "WtIpDnTRyt_j",
        "outputId": "0eec4cb7-6641-42e2-e4b4-669f53ec82df"
      },
      "outputs": [
        {
          "data": {
            "text/plain": [
              "datetime.datetime(2002, 10, 2, 0, 0)"
            ]
          },
          "execution_count": 11,
          "metadata": {},
          "output_type": "execute_result"
        }
      ],
      "source": [
        "the_moscow_times = datetime.strptime(date_string_TMT, '%A, %B %d, %Y')\n",
        "the_moscow_times"
      ]
    },
    {
      "cell_type": "code",
      "execution_count": null,
      "metadata": {
        "id": "QadHXXAMyt_k"
      },
      "outputs": [],
      "source": [
        "date_string_TG = 'Friday, 11.10.13'"
      ]
    },
    {
      "cell_type": "code",
      "execution_count": null,
      "metadata": {
        "id": "2hMC-wh6yt_k",
        "outputId": "ccc2d091-7d69-4977-cb4d-7bbc1a57c6b3"
      },
      "outputs": [
        {
          "data": {
            "text/plain": [
              "datetime.datetime(2013, 10, 11, 0, 0)"
            ]
          },
          "execution_count": 15,
          "metadata": {},
          "output_type": "execute_result"
        }
      ],
      "source": [
        "the_guardian = datetime.strptime(date_string_TG, '%A, %d.%m.%y')\n",
        "the_guardian"
      ]
    },
    {
      "cell_type": "code",
      "execution_count": null,
      "metadata": {
        "id": "n797vVjcyt_l"
      },
      "outputs": [],
      "source": [
        "date_string_DN = 'Thursday, 18 August 1977'"
      ]
    },
    {
      "cell_type": "code",
      "execution_count": null,
      "metadata": {
        "id": "TpyYZWgQyt_l",
        "outputId": "e23f720a-967a-4646-c63a-87fd1dcb0d29"
      },
      "outputs": [
        {
          "data": {
            "text/plain": [
              "datetime.datetime(1977, 8, 18, 0, 0)"
            ]
          },
          "execution_count": 18,
          "metadata": {},
          "output_type": "execute_result"
        }
      ],
      "source": [
        "daily_news = datetime.strptime(date_string_DN, '%A, %d %B %Y')\n",
        "daily_news"
      ]
    },
    {
      "cell_type": "markdown",
      "metadata": {
        "id": "m5xZEaZuyt_l"
      },
      "source": [
        "# Задание 2\n",
        "Дан поток дат в формате YYYY-MM-DD, в которых встречаются некорректные значения:\n",
        "stream = [‘2018-04-02’, ‘2018-02-29’, ‘2018-19-02’]\n",
        "\n",
        "Напишите функцию, которая проверяет эти даты на корректность. То есть для каждой даты возвращает True — дата корректна или False — некорректная."
      ]
    },
    {
      "cell_type": "code",
      "execution_count": 3,
      "metadata": {
        "colab": {
          "base_uri": "https://localhost:8080/",
          "height": 35
        },
        "id": "SWnnGFYFyt_l",
        "outputId": "e04df90b-62ba-4579-b292-60c3dbe816ee"
      },
      "outputs": [
        {
          "output_type": "execute_result",
          "data": {
            "text/plain": [
              "'2018-04-02'"
            ],
            "application/vnd.google.colaboratory.intrinsic+json": {
              "type": "string"
            }
          },
          "metadata": {},
          "execution_count": 3
        }
      ],
      "source": [
        "stream = ['2018-04-02', '2018-02-29', '2018-19-02']\n",
        "stream[0]"
      ]
    },
    {
      "cell_type": "code",
      "execution_count": 4,
      "metadata": {
        "colab": {
          "base_uri": "https://localhost:8080/"
        },
        "id": "6snhulyFyt_l",
        "outputId": "0e493432-e707-4589-aa4b-3c28031788bd"
      },
      "outputs": [
        {
          "output_type": "stream",
          "name": "stdout",
          "text": [
            "2018-04-02 True\n",
            "2018-02-29 False\n",
            "2018-19-02 False\n"
          ]
        }
      ],
      "source": [
        "for date in stream:\n",
        "    try:\n",
        "        datetime.strptime(date, '%Y-%m-%d')\n",
        "        print(date, True)\n",
        "    except:\n",
        "        print(date, False)"
      ]
    },
    {
      "cell_type": "markdown",
      "metadata": {
        "id": "JC7W8Kxiyt_m"
      },
      "source": [
        "# Задание 3\n",
        "Напишите функцию date_range, которая возвращает список дат за период от start_date до end_date. Даты должны вводиться в формате YYYY-MM-DD. В случае неверного формата или при start_date > end_date должен возвращаться пустой список."
      ]
    },
    {
      "cell_type": "code",
      "execution_count": null,
      "metadata": {
        "id": "fsTExtwCyt_m"
      },
      "outputs": [],
      "source": [
        "from datetime import timedelta"
      ]
    },
    {
      "cell_type": "code",
      "execution_count": null,
      "metadata": {
        "id": "_t6o8R6myt_m",
        "outputId": "b8765ba9-366b-46bc-bad7-e752064386c6"
      },
      "outputs": [
        {
          "name": "stdout",
          "output_type": "stream",
          "text": [
            "2021-04-18 00:00:00\n",
            "2021-04-19 00:00:00\n",
            "2021-04-20 00:00:00\n",
            "2021-04-21 00:00:00\n",
            "2021-04-22 00:00:00\n",
            "2021-04-23 00:00:00\n",
            "2021-04-24 00:00:00\n",
            "2021-04-25 00:00:00\n",
            "2021-04-26 00:00:00\n",
            "2021-04-27 00:00:00\n",
            "2021-04-28 00:00:00\n",
            "2021-04-29 00:00:00\n",
            "2021-04-30 00:00:00\n",
            "2021-05-01 00:00:00\n",
            "2021-05-02 00:00:00\n",
            "2021-05-03 00:00:00\n",
            "2021-05-04 00:00:00\n"
          ]
        }
      ],
      "source": [
        "start_date = '2021-04-17'\n",
        "end_date = '2021-05-04'\n",
        "\n",
        "def date_range(start_date, end_date):\n",
        "    try:\n",
        "        start_date_dt = datetime.strptime(start_date, '%Y-%m-%d')\n",
        "        end_date_dt = datetime.strptime(end_date, '%Y-%m-%d')\n",
        "        if start_date_dt > end_date_dt:\n",
        "            print('Wrong daterange')\n",
        "        else:\n",
        "            while start_date_dt < end_date_dt:\n",
        "                start_date_dt += timedelta(days = 1)\n",
        "                print(start_date_dt)\n",
        "    except:\n",
        "        print('Wrong date')\n",
        "\n",
        "date_range(start_date, end_date)"
      ]
    }
  ],
  "metadata": {
    "kernelspec": {
      "display_name": "Python 3",
      "language": "python",
      "name": "python3"
    },
    "language_info": {
      "codemirror_mode": {
        "name": "ipython",
        "version": 3
      },
      "file_extension": ".py",
      "mimetype": "text/x-python",
      "name": "python",
      "nbconvert_exporter": "python",
      "pygments_lexer": "ipython3",
      "version": "3.8.5"
    },
    "colab": {
      "provenance": []
    }
  },
  "nbformat": 4,
  "nbformat_minor": 0
}