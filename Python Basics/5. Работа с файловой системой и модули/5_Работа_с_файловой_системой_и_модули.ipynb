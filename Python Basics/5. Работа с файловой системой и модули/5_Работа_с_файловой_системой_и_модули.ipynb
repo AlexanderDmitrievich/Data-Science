{
  "cells": [
    {
      "cell_type": "markdown",
      "metadata": {
        "id": "fSPs-1QAuUg9"
      },
      "source": [
        "# Задание\n",
        "\n",
        "Задание 1\n",
        "\n",
        "Переведите содержимое файла purchase_log.txt* в словарь purchases вида:\n",
        "{‘1840e0b9d4’: ‘Продукты’, …}\n",
        "\n",
        "Для каждого user_id в файле visit_log.csv определите третий столбец с категорией покупки, если покупка была, сам файл visit_log.csv* изменять не надо. Запишите в файл funnel.csv визиты из файла visit_log.csv*, в которых были покупки с указанием категории.\n",
        "Учтите условия на данные:\n",
        "содержимое purchase_log.txt* помещается в оперативную память компьютера;\n",
        "содержимое visit_log.csv* — нет; используйте только построчную обработку этого файла.\n",
        "\n",
        "*Все файлы, необходимые для выполнения домашнего задания, находятся в разделе “Дополнительные материалы к домашнему заданию” (нужно скачать архив).\n",
        "\n",
        "Примечание\n",
        "Домашнее задание сдаётся ссылкой Google Colab или на репозиторий GitHub, но только если вы знакомы с Git и устанавливали ПО.\n",
        "Мы не сможем его проверить или помочь, если вы пришлёте:\n",
        "\n",
        "файлы,\n",
        "архивы,\n",
        "скриншоты кода.\n",
        "Все обсуждения и консультации по выполнению домашнего задания ведутся только на соответствующем канале в Discord."
      ]
    },
    {
      "cell_type": "code",
      "execution_count": null,
      "metadata": {
        "id": "gWkIpinDuUhB"
      },
      "outputs": [],
      "source": [
        "import json"
      ]
    },
    {
      "cell_type": "code",
      "execution_count": null,
      "metadata": {
        "id": "SPwHI6gIuUhC"
      },
      "outputs": [],
      "source": [
        "purchases = {}\n",
        "\n",
        "with open('C:/Users/alexa/Desktop/Netology HW/Python/HW5 Файловая система и модули/Файлы/purchase_log.txt', 'r', encoding = 'utf-8') as f:\n",
        "    for line in f:\n",
        "        new_d = json.loads(line)\n",
        "        purchases[new_d['user_id']] = new_d['category']\n",
        "\n"
      ]
    },
    {
      "cell_type": "markdown",
      "metadata": {
        "id": "eER9D-QhuUhD"
      },
      "source": [
        "# Задание 2"
      ]
    },
    {
      "cell_type": "code",
      "execution_count": null,
      "metadata": {
        "id": "IdDfPCXvuUhD"
      },
      "outputs": [],
      "source": [
        "with open('C:/Users/alexa/Desktop/Netology HW/Python/HW5 Файловая система и модули/Файлы/visit_log.csv', 'r', encoding = 'utf-8') as f2:\n",
        "    with open('C:/Users/alexa/Desktop/Netology HW/Python/HW5 Файловая система и модули/Файлы/funnel.csv', 'w') as f2write:\n",
        "        for line in f2:\n",
        "            new_sour = line.strip().split(',')\n",
        "            if new_sour[0] in purchases.keys():\n",
        "                new_sour.append(purchases[new_sour[0]])\n",
        "                f2write.write(str(new_sour)+ '\\n')\n",
        ""
      ]
    }
  ],
  "metadata": {
    "kernelspec": {
      "display_name": "Python 3",
      "language": "python",
      "name": "python3"
    },
    "language_info": {
      "codemirror_mode": {
        "name": "ipython",
        "version": 3
      },
      "file_extension": ".py",
      "mimetype": "text/x-python",
      "name": "python",
      "nbconvert_exporter": "python",
      "pygments_lexer": "ipython3",
      "version": "3.8.5"
    },
    "colab": {
      "provenance": []
    }
  },
  "nbformat": 4,
  "nbformat_minor": 0
}