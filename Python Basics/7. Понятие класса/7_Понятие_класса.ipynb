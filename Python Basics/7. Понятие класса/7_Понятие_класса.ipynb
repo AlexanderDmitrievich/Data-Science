{
  "cells": [
    {
      "cell_type": "markdown",
      "metadata": {
        "id": "TIqutu6Z1fwA"
      },
      "source": [
        "# Задание 1\n",
        "Напишите функцию, которая возвращает название валюты (поле ‘Name’) с максимальным значением курса с помощью сервиса www.cbr-xml-daily.ru...ly_json.js"
      ]
    },
    {
      "cell_type": "code",
      "execution_count": null,
      "metadata": {
        "id": "5B5MMkhf1fwB"
      },
      "outputs": [],
      "source": [
        "import requests"
      ]
    },
    {
      "cell_type": "code",
      "execution_count": null,
      "metadata": {
        "id": "SHSuqiE31fwC"
      },
      "outputs": [],
      "source": [
        "from libs.exchange import Rate"
      ]
    },
    {
      "cell_type": "code",
      "execution_count": null,
      "metadata": {
        "id": "3zctUSGj1fwC",
        "outputId": "88f3c415-8fd9-41e2-b5ad-d8a15abd2f85"
      },
      "outputs": [
        {
          "name": "stdout",
          "output_type": "stream",
          "text": [
            "СДР (специальные права заимствования)\n"
          ]
        }
      ],
      "source": [
        "full_data = requests.get('https://www.cbr-xml-daily.ru/daily_json.js').json()['Valute']\n",
        "valut = []\n",
        "\n",
        "for keys, names in full_data.items():\n",
        "    valut.append([names['Name'], names['Value']])\n",
        "\n",
        "print (max(valut, key=lambda x: x[1])[0])\n"
      ]
    },
    {
      "cell_type": "markdown",
      "metadata": {
        "id": "Hh3ep54a1fwD"
      },
      "source": [
        "# Задание 2\n",
        "Добавьте в класс Rate параметр diff (со значениями True или False), который в случае значения True в методах курсов валют (eur, usd итд) будет возвращать не курс валюты, а изменение по сравнению в прошлым значением. Считайте, self.diff будет принимать значение True только при возврате значения курса. При отображении всей информации о валюте он не используется."
      ]
    },
    {
      "cell_type": "code",
      "execution_count": null,
      "metadata": {
        "id": "JXN11r361fwE"
      },
      "outputs": [],
      "source": [
        "class Rate:\n",
        "    def __init__(self, format_='value', diff = False):\n",
        "        self.format = format_\n",
        "        self.diff = diff\n",
        "\n",
        "    def exchange_rates(self):\n",
        "        \"\"\"\n",
        "        Возвращает ответ сервиса с полной информацией о валютах\n",
        "\n",
        "        \"\"\"\n",
        "        self.r = requests.get('https://www.cbr-xml-daily.ru/daily_json.js')\n",
        "        return self.r.json()['Valute']\n",
        "\n",
        "    def make_format(self, currency):\n",
        "        \"\"\"\n",
        "        Возвращает информацию о валюте currency в двух вариантах:\n",
        "        - полная информация о валюте при self.format = 'full':\n",
        "        Rate('full').make_format('EUR')\n",
        "\n",
        "        Возвращает информацию о разнице валют при вводе 'value'\n",
        "        Rate('value').make_format('EUR')\n",
        "        79.4966\n",
        "        \"\"\"\n",
        "        response = self.exchange_rates()\n",
        "\n",
        "        if currency in response:\n",
        "            if self.format == 'full':\n",
        "                return response[currency]\n",
        "\n",
        "            if self.format == 'value' and self.diff == True:\n",
        "                return (response[currency]['Value'] - response[currency]['Previous'])\n",
        "\n",
        "        return 'Error'\n",
        "\n",
        "    def eur(self):\n",
        "        \"\"\"Возвращает курс евро на сегодня в формате self.format\"\"\"\n",
        "        return self.make_format('EUR')\n",
        "\n",
        "    def usd(self):\n",
        "        \"\"\"Возвращает курс доллара на сегодня в формате self.format\"\"\"\n",
        "        return self.make_format('USD')\n",
        "\n",
        "    def brl(self):\n",
        "        \"\"\"Возвращает курс бразильского реала на сегодня в формате self.format\"\"\"\n",
        "        return self.make_format('BRL')\n",
        ""
      ]
    },
    {
      "cell_type": "code",
      "execution_count": null,
      "metadata": {
        "id": "jKyvBSsr1fwE",
        "outputId": "c5830651-4092-4fd0-fed4-df50423e0d56"
      },
      "outputs": [
        {
          "data": {
            "text/plain": [
              "-0.17279999999999518"
            ]
          },
          "execution_count": 266,
          "metadata": {},
          "output_type": "execute_result"
        }
      ],
      "source": [
        "Rate('value', True).make_format('EUR')"
      ]
    },
    {
      "cell_type": "markdown",
      "metadata": {
        "id": "eBOt-WBD1fwE"
      },
      "source": [
        "# Задание 3\n",
        "Напишите класс Designer, который учитывает количество международных премий. Подсказки в коде занятия (“Ноутбук к лекциям «Понятие класса» + презентация”, zip-файл “Используемый ноутбук к лекциям «Понятие класса»).\n",
        "\n",
        "Комментарий по классу Designer такой:\n",
        "Напишите класс Designer, который учитывает количество международных премий для дизайнеров (из презентации: “Повышение на 1 грейд за каждые 7 баллов. Получение международной премии – это +2 балла”). Считайте, что при выходе на работу сотрудник уже имеет две премии и их количество не меняется со стажем (конечно если хотите это можно вручную менять)."
      ]
    },
    {
      "cell_type": "code",
      "execution_count": null,
      "metadata": {
        "id": "L_5iHGH01fwE"
      },
      "outputs": [],
      "source": [
        "class Employee:\n",
        "    def __init__(self, name, seniority):\n",
        "        self.name = name\n",
        "        self.seniority = seniority\n",
        "\n",
        "        self.grade = 1\n",
        "\n",
        "    def grade_up(self):\n",
        "        \"\"\"Повышает уровень сотрудника\"\"\"\n",
        "        self.grade += 1\n",
        "\n",
        "    def award_grade(self):\n",
        "        \"\"\"Международная премия\"\"\"\n",
        "        print(self.name, self.grade)\n",
        "\n",
        "    def check_if_it_is_time_for_upgrade(self):\n",
        "        pass"
      ]
    },
    {
      "cell_type": "code",
      "execution_count": null,
      "metadata": {
        "id": "bzmOuCTw1fwF"
      },
      "outputs": [],
      "source": [
        "class Designer(Employee):\n",
        "    def __init__(self, name, seniority):\n",
        "        super().__init__(name, seniority)\n",
        "\n",
        "    def check_if_it_is_time_for_upgrade(self):\n",
        "        self.seniority += 2\n",
        "\n",
        "        # условие повышения сотрудника\n",
        "        if self.seniority % 7 == 0 or self.seniority % 7 == 1:\n",
        "            self.grade_up()\n",
        "\n",
        "        return self.award_grade()"
      ]
    },
    {
      "cell_type": "code",
      "execution_count": null,
      "metadata": {
        "id": "rcTxKdp61fwF"
      },
      "outputs": [],
      "source": [
        "alex = Designer('Александр', 2)"
      ]
    },
    {
      "cell_type": "code",
      "execution_count": null,
      "metadata": {
        "id": "cwyrtL6I1fwF",
        "outputId": "8bd1c9f6-8e5f-4a54-da29-a9150ea2bdfa"
      },
      "outputs": [
        {
          "name": "stdout",
          "output_type": "stream",
          "text": [
            "Александр 1\n",
            "Александр 1\n",
            "Александр 2\n",
            "Александр 2\n",
            "Александр 2\n",
            "Александр 3\n",
            "Александр 3\n",
            "Александр 3\n",
            "Александр 3\n",
            "Александр 4\n",
            "Александр 4\n",
            "Александр 4\n",
            "Александр 5\n",
            "Александр 5\n",
            "Александр 5\n",
            "Александр 5\n",
            "Александр 6\n",
            "Александр 6\n",
            "Александр 6\n",
            "Александр 7\n"
          ]
        }
      ],
      "source": [
        "for i in range(20):\n",
        "    alex.check_if_it_is_time_for_upgrade()"
      ]
    }
  ],
  "metadata": {
    "kernelspec": {
      "display_name": "Python 3",
      "language": "python",
      "name": "python3"
    },
    "language_info": {
      "codemirror_mode": {
        "name": "ipython",
        "version": 3
      },
      "file_extension": ".py",
      "mimetype": "text/x-python",
      "name": "python",
      "nbconvert_exporter": "python",
      "pygments_lexer": "ipython3",
      "version": "3.8.5"
    },
    "colab": {
      "provenance": []
    }
  },
  "nbformat": 4,
  "nbformat_minor": 0
}