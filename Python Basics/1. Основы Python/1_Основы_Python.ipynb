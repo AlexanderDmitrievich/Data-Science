{
  "cells": [
    {
      "cell_type": "markdown",
      "metadata": {
        "id": "uYZpmViLz2Tm"
      },
      "source": [
        "# Задание 1\n",
        "Даны 2 переменных, в которых хранятся строки произвольной длины: phrase_1 и phrase_2.\n",
        "\n",
        "Напишите код, который проверяет какая из этих строк длиннее.\n",
        "\n",
        "Примеры работы программы:\n",
        "\n",
        "phrase_1 = 'Насколько проще было бы писать программы, если бы не заказчики'\n",
        "\n",
        "phrase_2 = '640Кб должно хватить для любых задач. Билл Гейтс (по легенде)'\n",
        "\n",
        "Результат:\n",
        "Фраза 1 длиннее фразы 2\n",
        "\n",
        "phrase_1 = '640Кб должно хватить для любых задач. Билл Гейтс (по легенде)'\n",
        "\n",
        "phrase_2 = 'Насколько проще было бы писать программы, если бы не заказчики'\n",
        "\n",
        "Результат:\n",
        "Фраза 2 длиннее фразы 1\n",
        "\n",
        "phrase_1 = 'Насколько проще было бы писать программы, если бы не заказчики'\n",
        "\n",
        "phrase_2 = 'Насколько проще было бы писать программы, если бы не заказчики'\n",
        "\n",
        "Результат:\n",
        "Фразы равной длины"
      ]
    },
    {
      "cell_type": "code",
      "execution_count": 1,
      "metadata": {
        "colab": {
          "base_uri": "https://localhost:8080/"
        },
        "id": "I9gqcdFzz2To",
        "outputId": "8a0c6833-6cdd-4ca5-a51b-fc9529a8549e"
      },
      "outputs": [
        {
          "output_type": "stream",
          "name": "stdout",
          "text": [
            "Фраза 1 длиннее Фразы 2\n"
          ]
        }
      ],
      "source": [
        "phrase_1 = 'qwertyuiop'\n",
        "phrase_2 = 'qwerty'\n",
        "\n",
        "if len(phrase_1)>len(phrase_2):\n",
        "    print ('Фраза 1 длиннее Фразы 2')\n",
        "else:\n",
        "    print ('Фраза 2 длиннее Фразы 1')"
      ]
    },
    {
      "cell_type": "code",
      "execution_count": 2,
      "metadata": {
        "colab": {
          "base_uri": "https://localhost:8080/"
        },
        "id": "w4Y8rRW9z2Tp",
        "outputId": "d550d976-d690-48ea-cbe9-f45ecfc701d8"
      },
      "outputs": [
        {
          "output_type": "stream",
          "name": "stdout",
          "text": [
            "Фраза 2 длиннее Фразы 1\n"
          ]
        }
      ],
      "source": [
        "phrase_1 = 'qwerty'\n",
        "phrase_2 = 'qwertyuiop'\n",
        "\n",
        "if len(phrase_1)>len(phrase_2):\n",
        "    print ('Фраза 1 длиннее Фразы 2')\n",
        "else:\n",
        "    print ('Фраза 2 длиннее Фразы 1')"
      ]
    },
    {
      "cell_type": "code",
      "execution_count": 3,
      "metadata": {
        "colab": {
          "base_uri": "https://localhost:8080/"
        },
        "id": "7GmN0Z1jz2Tq",
        "outputId": "ba265485-3e44-42fd-e980-e1604df14cdc"
      },
      "outputs": [
        {
          "output_type": "stream",
          "name": "stdout",
          "text": [
            "Фраза 2 равна Фразе 1\n"
          ]
        }
      ],
      "source": [
        "phrase_1 = 'qwerty'\n",
        "phrase_2 = 'qwerty'\n",
        "\n",
        "if len(phrase_1)>len(phrase_2):\n",
        "    print ('Фраза 1 длиннее Фразы 2')\n",
        "elif len(phrase_1)<len(phrase_2):\n",
        "    print ('Фраза 2 длиннее Фразы 1')\n",
        "else:\n",
        "    print ('Фраза 2 равна Фразе 1')"
      ]
    },
    {
      "cell_type": "markdown",
      "metadata": {
        "id": "XdVU_4Zvz2Tq"
      },
      "source": [
        "# Задание 2\n",
        "\n",
        "Дана переменная, в которой хранится число (год). Необходимо написать программу, которая выведет, является ли данный год високосным или обычным.\n",
        "\n",
        "Пример работы программы:\n",
        "\n",
        "year = 2020\n",
        "\n",
        "Результат:\n",
        "Високосный год\n",
        "\n",
        "year = 2019\n",
        "\n",
        "Результат:\n",
        "Обычный год"
      ]
    },
    {
      "cell_type": "code",
      "execution_count": null,
      "metadata": {
        "id": "yDBJjFyTz2Tq",
        "outputId": "72c313d6-01c1-420d-ac2e-589910750bba"
      },
      "outputs": [
        {
          "name": "stdout",
          "output_type": "stream",
          "text": [
            "2020 - високосный год\n"
          ]
        }
      ],
      "source": [
        "year = 2020\n",
        "\n",
        "if year % 4 == 0:\n",
        "    print (year, '- високосный год')\n",
        "else:\n",
        "    print (year, '- обычный год')"
      ]
    },
    {
      "cell_type": "code",
      "execution_count": null,
      "metadata": {
        "id": "3i-eP_EBz2Tr",
        "outputId": "831aa8c5-6473-49e3-eebd-afa0ba07da9e"
      },
      "outputs": [
        {
          "name": "stdout",
          "output_type": "stream",
          "text": [
            "2019 - обычный год\n"
          ]
        }
      ],
      "source": [
        "year = 2019\n",
        "\n",
        "if year % 4 == 0:\n",
        "    print (year, '- високосный год')\n",
        "else:\n",
        "    print (year, '- обычный год')"
      ]
    },
    {
      "cell_type": "markdown",
      "metadata": {
        "id": "vebY88vuz2Tr"
      },
      "source": [
        "# Задание 3\n",
        "Необходимо написать программу, которая будет запрашивать у пользователя месяц и дату рождения и выводить соответствующий знак зодиака.\n",
        "\n",
        "Пример работы программы:\n",
        "\n",
        "Введите день:\n",
        "30\n",
        "\n",
        "Введите месяц:\n",
        "Август\n",
        "\n",
        "Результат:\n",
        "Ваш знак зодиака: Дева\n",
        "\n",
        "Введите день:\n",
        "29\n",
        "\n",
        "Введите месяц:\n",
        "Октябрь\n",
        "\n",
        "Результат:\n",
        "Ваш знак зодиака: Скорпион"
      ]
    },
    {
      "cell_type": "code",
      "execution_count": null,
      "metadata": {
        "id": "1FddEizcz2Tr",
        "outputId": "362c3575-22ed-48ac-9056-8884d9fc2d5d"
      },
      "outputs": [
        {
          "name": "stdout",
          "output_type": "stream",
          "text": [
            "Водолей\n"
          ]
        }
      ],
      "source": [
        "date = 18\n",
        "month = 'february'\n",
        "\n",
        "if date >= 21 and month == 'march':\n",
        "    print ('Овен')\n",
        "elif date <= 19 and month == 'april':\n",
        "    print ('Овен')\n",
        "elif date >= 20 and month == 'april':\n",
        "    print ('Телец')\n",
        "elif date <= 20 and month == 'may':\n",
        "    print ('Телец')\n",
        "elif date >= 21 and month == 'may':\n",
        "    print ('Близнецы')\n",
        "elif date <= 21 and month == 'june':\n",
        "    print ('Близнецы')\n",
        "elif date >= 22 and month == 'june':\n",
        "    print ('Рак')\n",
        "elif date <= 22 and month == 'july':\n",
        "    print ('Рак')\n",
        "elif date >= 23 and month == 'july':\n",
        "    print ('Лев')\n",
        "elif date <= 22 and month == 'august':\n",
        "    print ('Лев')\n",
        "elif date >= 23 and month == 'august':\n",
        "    print ('Дева')\n",
        "elif date <= 22 and month == 'september':\n",
        "    print ('Дева')\n",
        "elif date >= 23 and month == 'september':\n",
        "    print ('Весы')\n",
        "elif date <= 23 and month == 'october':\n",
        "    print ('Весы')\n",
        "elif date >= 24 and month == 'october':\n",
        "    print ('Скорпион')\n",
        "elif date <= 22 and month == 'november':\n",
        "    print ('Скорпион')\n",
        "elif date >= 23 and month == 'november':\n",
        "    print ('Стрелец')\n",
        "elif date <= 21 and month == 'december':\n",
        "    print ('Стрелец')\n",
        "elif date >= 22 and month == 'december':\n",
        "    print ('Козерог')\n",
        "elif date <= 20 and month == 'january':\n",
        "    print ('Козерог')\n",
        "elif date >= 21 and month == 'january':\n",
        "    print ('Водолей')\n",
        "elif date <= 18 and month == 'february':\n",
        "    print ('Водолей')\n",
        "elif date >= 19 and month == 'february':\n",
        "    print ('Рыбы')\n",
        "elif date <= 20 and month == 'march':\n",
        "    print ('Рыбы')\n",
        "else:\n",
        "    print ('None')\n",
        ""
      ]
    },
    {
      "cell_type": "markdown",
      "metadata": {
        "id": "jBGVL300z2Ts"
      },
      "source": [
        "# Вам нужно написать программу для подбора упаковок по размерам товара. Размеры (ширина, длина, высота) хранятся в переменных (в сантиметрах):\n",
        "\n",
        "Используйте следующие правила:\n",
        "\n",
        "если каждое из трех измерений менее или равно 15 сантиметрам, то выведите на экран \"Коробка №1\";\n",
        "\n",
        "если хотя бы одно из измерений больше 2 метров, то выводите \"Упаковка для лыж\";\n",
        "\n",
        "если хотя бы одно из измерений больше 15 сантиметров, но менее 50 сантиметров,\n",
        "то выводите \"Коробка №2\";\n",
        "\n",
        "во всех остальных случаях выводите \"Коробка №3\".\n",
        "\n",
        "Пример работы программы:\n",
        "\n",
        "width = 15\n",
        "length = 55\n",
        "height = 15\n",
        "\n",
        "Результат:\n",
        "Коробка №3\n",
        "\n",
        "width = 45\n",
        "length = 205\n",
        "height = 45\n",
        "\n",
        "Результат:\n",
        "Упаковка для лыж"
      ]
    },
    {
      "cell_type": "code",
      "execution_count": null,
      "metadata": {
        "id": "_ycL3BLZz2Ts",
        "outputId": "27e0b55a-2fff-4357-cd6b-30d91953d720"
      },
      "outputs": [
        {
          "name": "stdout",
          "output_type": "stream",
          "text": [
            "Упаковка для лыж\n"
          ]
        }
      ],
      "source": [
        "width = 10\n",
        "length = 205\n",
        "height = 10\n",
        "\n",
        "if width < 15 and length < 15 and height < 15:\n",
        "    print ('Коробка №1')\n",
        "elif (15 < width < 50 or 15 < length < 50 or 15 < height < 50) and width < 50 and length < 50 and height < 50:\n",
        "    print ('Коробка №2')\n",
        "elif width > 200 or length > 200 or height > 200:\n",
        "    print ('Упаковка для лыж')\n",
        "else:\n",
        "    print ('Стандартная коробка №3')"
      ]
    },
    {
      "cell_type": "markdown",
      "metadata": {
        "id": "6x1sSLk8z2Ts"
      },
      "source": [
        "# Задание 5 (необязательное)\n",
        "\n",
        "Дана переменная, в которой хранится шестизначное число (номер проездного билета). Напишите программу, которая будет определять, является ли данный билет \"счастливым\". Билет считается счастливым, если сумма первых трех цифр совпадает с суммой последних трех цифр номера.\n",
        "\n",
        "Примеры работы программы:\n",
        "\n",
        "number = 123456\n",
        "\n",
        "Результат:\n",
        "Несчастливый билет\n",
        "\n",
        "number = 123321\n",
        "\n",
        "Результат:\n",
        "Счастливый билет"
      ]
    },
    {
      "cell_type": "code",
      "execution_count": null,
      "metadata": {
        "id": "n7GDLUM3z2Ts",
        "outputId": "c1403db4-1063-48ae-dd9b-74c0a6d4308c"
      },
      "outputs": [
        {
          "name": "stdout",
          "output_type": "stream",
          "text": [
            "Счастливый билет\n"
          ]
        }
      ],
      "source": [
        "number = 123024\n",
        "a = number % 10\n",
        "number = number // 10\n",
        "a = a + number % 10\n",
        "number = number // 10\n",
        "a = a + number % 10;\n",
        "number = number // 10;\n",
        "number = (number // 100) + (number // 10) % 10 + (number % 10)\n",
        "\n",
        "if number != a:\n",
        "    print ('Несчастливый билет')\n",
        "else:\n",
        "    print('Счастливый билет')"
      ]
    },
    {
      "cell_type": "markdown",
      "metadata": {
        "id": "dOvfmaKJz2Tt"
      },
      "source": [
        "# Напишите программу, которая сможет вычислять площади трех фигур (круг, треугольник и прямоугольник). Тип фигуры запрашиваем через пользовательский ввод, после чего делаем запрос характеристик фигуры:\n",
        "\n",
        "если пользователь выбрал круг, запрашиваем его радиус,\n",
        "если треугольник – длины трех его сторон;\n",
        "если прямоугольник – длины двух его сторон.\n",
        "Пример работы программы:\n",
        "\n",
        "Введите тип фигуры:\n",
        "Круг\n",
        "\n",
        "Введите радиус круга:\n",
        "10\n",
        "\n",
        "Результат:\n",
        "Площадь круга: 314.16\n",
        "\n",
        "Введите тип фигуры:\n",
        "Треугольник\n",
        "\n",
        "Введите длину стороны A:\n",
        "2\n",
        "\n",
        "Введите длину стороны B:\n",
        "2\n",
        "\n",
        "Введите длину стороны C:\n",
        "3\n",
        "\n",
        "Результат:\n",
        "Площадь треугольника: 1.98"
      ]
    },
    {
      "cell_type": "code",
      "execution_count": null,
      "metadata": {
        "id": "1rYjFuERz2Tt",
        "outputId": "c22ba673-947c-4f44-e4e3-18b42918cc09"
      },
      "outputs": [
        {
          "name": "stdout",
          "output_type": "stream",
          "text": [
            "Введите радиус10\n",
            "314.1592653589793\n"
          ]
        }
      ],
      "source": [
        "import math\n",
        "from math import sqrt\n",
        "\n",
        "figure = 'Round'\n",
        "if figure == 'Round':\n",
        "    user_input = int(input('Введите радиус'))\n",
        "    print (math.pi*(user_input**2))\n",
        "elif figure == 'Square':\n",
        "    A = int(input('A'))\n",
        "    B = int(input('B'))\n",
        "    print (A*B)\n",
        "elif figure == 'Triangle':\n",
        "    A = int(input('A'))\n",
        "    B = int(input('B'))\n",
        "    C = int(input('С'))\n",
        "    P = (A+B+C)/2\n",
        "    print (sqrt(P*(P - A)*(P - B)*(P - C)))\n",
        "else:\n",
        "    print ('No data')"
      ]
    }
  ],
  "metadata": {
    "kernelspec": {
      "display_name": "Python 3",
      "language": "python",
      "name": "python3"
    },
    "language_info": {
      "codemirror_mode": {
        "name": "ipython",
        "version": 3
      },
      "file_extension": ".py",
      "mimetype": "text/x-python",
      "name": "python",
      "nbconvert_exporter": "python",
      "pygments_lexer": "ipython3",
      "version": "3.8.5"
    },
    "colab": {
      "provenance": []
    }
  },
  "nbformat": 4,
  "nbformat_minor": 0
}