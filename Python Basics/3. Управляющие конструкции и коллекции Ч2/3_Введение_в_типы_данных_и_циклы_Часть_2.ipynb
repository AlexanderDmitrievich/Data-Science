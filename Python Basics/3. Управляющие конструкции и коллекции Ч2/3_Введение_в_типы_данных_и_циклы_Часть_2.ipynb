{
  "cells": [
    {
      "cell_type": "markdown",
      "metadata": {
        "id": "PPh5DUGKOW3d"
      },
      "source": [
        "# Задание 1\n",
        "Дана переменная, в которой хранится словарь, содержащий гео-метки для каждого пользователя (пример структуры данных приведен ниже). Вам необходимо написать программу, которая выведет на экран множество уникальных гео-меток всех пользователей.\n",
        "\n",
        "Пример работы программы:\n",
        "\n",
        "ids = {'user1': [213, 213, 213, 15, 213],\n",
        "       'user2': [54, 54, 119, 119, 119],\n",
        "       'user3': [213, 98, 98, 35]}\n",
        "\n",
        "Pезультат: {98, 35, 15, 213, 54, 119}\n"
      ]
    },
    {
      "cell_type": "code",
      "execution_count": null,
      "metadata": {
        "id": "zQd0jOWZOW3f",
        "outputId": "7cffed95-8d50-44e8-bff0-aea97cfefc28"
      },
      "outputs": [
        {
          "data": {
            "text/plain": [
              "{15, 35, 54, 98, 119, 213}"
            ]
          },
          "execution_count": 99,
          "metadata": {},
          "output_type": "execute_result"
        }
      ],
      "source": [
        "ids = {'user1': [213, 213, 213, 15, 213],\n",
        "'user2': [54, 54, 119, 119, 119],\n",
        "'user3': [213, 98, 98, 35]}\n",
        "\n",
        "ids_list = (list(ids.values()))\n",
        "clear_list = sum(ids_list, [])\n",
        "unique = set(clear_list)\n",
        "\n",
        "unique"
      ]
    },
    {
      "cell_type": "markdown",
      "metadata": {
        "id": "oPbSBUiyOW3h"
      },
      "source": [
        "# Задание 2\n",
        "Дана переменная, в которой хранится список поисковых запросов пользователя (пример структуры данных приведен ниже, но запросы потенциально могут быть любые). Вам необходимо написать программу, которая выведет на экран распределение количества слов в запросах в требуемом виде.\n",
        "\n",
        "Пример работы программы:\n",
        "\n",
        "queries = [\n",
        "    'смотреть сериалы онлайн',\n",
        "    'новости спорта',\n",
        "    'афиша кино',\n",
        "    'курс доллара',\n",
        "    'сериалы этим летом',\n",
        "    'курс по питону',\n",
        "    'сериалы про спорт',\n",
        "]\n",
        "Результат:\n",
        "\n",
        "Поисковых запросов, содержащих 2 слов(а): 42.86%\n",
        "\n",
        "Поисковых запросов, содержащих 3 слов(а): 57.14%"
      ]
    },
    {
      "cell_type": "code",
      "execution_count": null,
      "metadata": {
        "id": "f5datd0mOW3h",
        "outputId": "1ac169af-bbbd-4cbc-82d2-300126a15330"
      },
      "outputs": [
        {
          "name": "stdout",
          "output_type": "stream",
          "text": [
            "Поисковых запросов, содержащих 3 слов(а): 57.14 %\n",
            "Поисковых запросов, содержащих 2 слов(а): 42.86 %\n"
          ]
        }
      ],
      "source": [
        "query = [\n",
        "'смотреть сериалы онлайн',\n",
        "'новости спортa',\n",
        "'афиша кино',\n",
        "'курс доллара',\n",
        "'сериалы этим летом',\n",
        "'курс по питону',\n",
        "'сериалы про спорт',\n",
        "]\n",
        "\n",
        "n = 0\n",
        "\n",
        "len_list = {}\n",
        "\n",
        "for word in query:\n",
        "    set_query = set(query[n].split(' '))\n",
        "    n = n + 1\n",
        "    len_query = len(set_query)\n",
        "    if len_query in len_list:\n",
        "        len_list[len_query] += 1\n",
        "    else:\n",
        "        len_list[len_query] = 1\n",
        "\n",
        "for key, value in len_list.items():\n",
        "    print ('Поисковых запросов, содержащих', key, 'слов(а):', round((value / len(query))*100, 2), '%')"
      ]
    },
    {
      "cell_type": "markdown",
      "metadata": {
        "id": "SoVpRGdTOW3h"
      },
      "source": [
        "# Задание 3\n",
        "Дана переменная, в которой хранится информация о затратах и доходе рекламных кампаний по различным источникам. Необходимо дополнить исходную структуру показателем ROI, который рассчитаем по формуле: ((revenue / cost) - 1) * 100\n",
        "\n",
        "Пример работы программы:\n",
        "\n",
        "results = {\n",
        "    'vk': {'revenue': 103, 'cost': 98},\n",
        "    'yandex': {'revenue': 179, 'cost': 153},\n",
        "    'facebook': {'revenue': 103, 'cost': 110},\n",
        "    'adwords': {'revenue': 35, 'cost': 34},\n",
        "    'twitter': {'revenue': 11, 'cost': 24},\n",
        "}\n",
        "\n",
        "Результат:\n",
        "\n",
        "{'adwords': {'revenue': 35, 'cost': 34, 'ROI': 2.94},\n",
        " 'facebook': {'revenue': 103, 'cost': 110, 'ROI': -6.36},\n",
        " 'twitter': {'revenue': 11, 'cost': 24, 'ROI': -54.17},\n",
        " 'vk': {'revenue': 103, 'cost': 98, 'ROI': 5.1},\n",
        " 'yandex': {'revenue': 179, 'cost': 153, 'ROI': 16.99}}"
      ]
    },
    {
      "cell_type": "code",
      "execution_count": null,
      "metadata": {
        "id": "Rz6941wHOW3i",
        "outputId": "78a9bd46-4011-4bc3-edc6-2c90805b608e"
      },
      "outputs": [
        {
          "name": "stdout",
          "output_type": "stream",
          "text": [
            "{'vk': {'revenue': 103, 'cost': 98, 'ROI': 5.1}, 'yandex': {'revenue': 179, 'cost': 153, 'ROI': 16.99}, 'facebook': {'revenue': 103, 'cost': 110, 'ROI': -6.36}, 'adwords': {'revenue': 35, 'cost': 34, 'ROI': 2.94}, 'twitter': {'revenue': 11, 'cost': 24, 'ROI': -54.17}}\n"
          ]
        }
      ],
      "source": [
        "import copy\n",
        "\n",
        "results = {\n",
        "'vk': {'revenue': 103, 'cost': 98},\n",
        "'yandex': {'revenue': 179, 'cost': 153},\n",
        "'facebook': {'revenue': 103, 'cost': 110},\n",
        "'adwords': {'revenue': 35, 'cost': 34},\n",
        "'twitter': {'revenue': 11, 'cost': 24},\n",
        "}\n",
        "\n",
        "result = copy.copy(results)\n",
        "\n",
        "for key, value in result.items():\n",
        "    value ['ROI'] = round((value ['revenue'] / value ['cost'] - 1) * 100, 2)\n",
        "print (result)\n",
        ""
      ]
    },
    {
      "cell_type": "markdown",
      "metadata": {
        "id": "7RHtsp2hOW3i"
      },
      "source": [
        "# Задание 4\n",
        "Дана переменная, в которой хранится статистика рекламных каналов по объемам продаж (пример структуры данных приведен ниже). Напишите программу, которая возвращает название канала с максимальным объемом продаж.\n",
        "\n",
        "Пример работы программы:\n",
        "\n",
        "stats = {'facebook': 55, 'yandex': 115, 'vk': 120, 'google': 99, 'email': 42, 'ok': 98}\n",
        "\n",
        "Результат: Максимальный объем продаж на рекламном канале: vk"
      ]
    },
    {
      "cell_type": "code",
      "execution_count": null,
      "metadata": {
        "id": "1-JgrgiBOW3i",
        "outputId": "883cd9d7-ebb4-4683-8e23-c7ded8ca739d"
      },
      "outputs": [
        {
          "name": "stdout",
          "output_type": "stream",
          "text": [
            "Максимальный объем продаж на рекламном канале: vk\n"
          ]
        }
      ],
      "source": [
        "stats = {'facebook': 55, 'yandex': 115, 'vk': 120, 'google': 99, 'email': 42, 'ok': 98}\n",
        "\n",
        "values = list(stats.values())\n",
        "max_value = max(values)\n",
        "\n",
        "for key, value in stats.items():\n",
        "    if value == max_value :\n",
        "        print ('Максимальный объем продаж на рекламном канале:',key)\n",
        "    else:\n",
        "        pass\n",
        "\n",
        "\n",
        "\n",
        "\n",
        "\n"
      ]
    },
    {
      "cell_type": "markdown",
      "metadata": {
        "id": "0LoDMSmTOW3j"
      },
      "source": [
        "# Задание 5 (необязательно)\n",
        "Дан список произвольной длины. Необходимо написать код, который на основе исходного списка составит словарь такого уровня вложенности, какова длина исхондого списка.\n",
        "\n",
        "Примеры работы программы:\n",
        "\n",
        "my_list = ['2018-01-01', 'yandex', 'cpc', 100]\n",
        "Результат: {'2018-01-01': {'yandex': {'cpc': 100}}}\n",
        "\n",
        "my_list = ['a', 'b', 'c', 'd', 'e', 'f']\n",
        "Результат: {'a': {'b': {'c': {'d': {'e': 'f'}}}}}"
      ]
    },
    {
      "cell_type": "code",
      "execution_count": null,
      "metadata": {
        "id": "847P7Q04OW3j",
        "outputId": "668f041b-52d5-4a9f-f987-06794f6eba60"
      },
      "outputs": [
        {
          "name": "stdout",
          "output_type": "stream",
          "text": [
            "{'2018-01-01': {'yandex': {'cpc': 100}}}\n"
          ]
        }
      ],
      "source": [
        "my_list = ['2018-01-01', 'yandex', 'cpc', 100]\n",
        "\n",
        "last_el = my_list[-1]\n",
        "\n",
        "for el in reversed(my_list[:-1]):\n",
        "    last_el = {el:last_el}\n",
        "\n",
        "print(last_el)\n"
      ]
    },
    {
      "cell_type": "markdown",
      "metadata": {
        "id": "4gBcqyIeOW3j"
      },
      "source": [
        "# Задание 6 (необязательно)\n",
        "Дана книга рецептов с информацией о том, сколько ингредиентов нужно для приготовления блюда в расчете на одну порцию (пример данных представлен ниже).\n",
        "Напишите программу, которая будет запрашивать у пользователя количество порций для приготовления этих блюд и отображать информацию о суммарном количестве требуемых ингредиентов в указанном виде.\n",
        "Внимание! Одинаковые ингредиенты с разными размерностями нужно считать раздельно!\n",
        "Пример работы программы:\n",
        "\n",
        "cook_book = {\n",
        "  'салат': [\n",
        "     {'ingridient_name': 'сыр', 'quantity': 50, 'measure': 'гр'},\n",
        "     {'ingridient_name': 'томаты', 'quantity': 2, 'measure': 'шт'},\n",
        "     {'ingridient_name': 'огурцы', 'quantity': 20, 'measure': 'гр'},\n",
        "     {'ingridient_name': 'маслины', 'quantity': 10, 'measure': 'гр'},\n",
        "     {'ingridient_name': 'оливковое масло', 'quantity': 20, 'measure': 'мл'},\n",
        "     {'ingridient_name': 'салат', 'quantity': 10, 'measure': 'гр'},\n",
        "     {'ingridient_name': 'перец', 'quantity': 20, 'measure': 'гр'}\n",
        "    ],\n",
        "  'пицца': [\n",
        "     {'ingridient_name': 'сыр', 'quantity': 20, 'measure': 'гр'},\n",
        "     {'ingridient_name': 'колбаса', 'quantity': 30, 'measure': 'гр'},\n",
        "     {'ingridient_name': 'бекон', 'quantity': 30, 'measure': 'гр'},\n",
        "     {'ingridient_name': 'оливки', 'quantity': 10, 'measure': 'гр'},\n",
        "     {'ingridient_name': 'томаты', 'quantity': 20, 'measure': 'гр'},\n",
        "     {'ingridient_name': 'тесто', 'quantity': 100, 'measure': 'гр'},   \n",
        "    ],\n",
        "  'лимонад': [\n",
        "     {'ingridient_name': 'лимон', 'quantity': 1, 'measure': 'шт'},\n",
        "     {'ingridient_name': 'вода', 'quantity': 200, 'measure': 'мл'},\n",
        "     {'ingridient_name': 'сахар', 'quantity': 10, 'measure': 'гр'},\n",
        "     {'ingridient_name': 'лайм', 'quantity': 20, 'measure': 'гр'},    \n",
        "    ]\n",
        "}\n",
        "\n",
        "Введите количество порций:  \n",
        "3\n",
        "\n",
        "Результат:\n",
        "\n",
        "Сыр: 210 гр  \n",
        "Томаты: 6 шт  \n",
        "Огурцы: 60 гр  \n",
        "Маслины: 30 гр  \n",
        "Оливковое масло: 60 мл  \n",
        "Салат: 30 гр  \n",
        "Перец: 60 гр  \n",
        "Колбаса: 90 гр  \n",
        "Бекон: 90 гр  \n",
        "Оливки: 30 гр  \n",
        "Томаты: 60 гр  \n",
        "Тесто: 300 гр  \n",
        "Лимон: 3 шт  \n",
        "Вода: 600 мл  \n",
        "Сахар: 30 гр  \n",
        "Лайм: 60 гр  \n"
      ]
    },
    {
      "cell_type": "code",
      "execution_count": null,
      "metadata": {
        "id": "kHzfdV-COW3j",
        "outputId": "2bfeb13b-c392-4ae1-f5ea-1a26d187df2a"
      },
      "outputs": [
        {
          "name": "stdout",
          "output_type": "stream",
          "text": [
            "Введите количество порций5\n",
            "сыр 250 гр\n",
            "томаты 10 шт\n",
            "огурцы 100 гр\n",
            "маслины 50 гр\n",
            "оливковое масло 100 мл\n",
            "салат 50 гр\n",
            "перец 100 гр\n",
            "сыр 100 гр\n",
            "колбаса 150 гр\n",
            "бекон 150 гр\n",
            "оливки 50 гр\n",
            "томаты 100 гр\n",
            "тесто 500 гр\n",
            "лимон 5 шт\n",
            "вода 1000 мл\n",
            "сахар 50 гр\n",
            "лайм 100 гр\n"
          ]
        }
      ],
      "source": [
        "import copy\n",
        "\n",
        "cook_book = {\n",
        "'салат': [\n",
        "{'ingridient_name': 'сыр', 'quantity': 50, 'measure': 'гр'},\n",
        "{'ingridient_name': 'томаты', 'quantity': 2, 'measure': 'шт'},\n",
        "{'ingridient_name': 'огурцы', 'quantity': 20, 'measure': 'гр'},\n",
        "{'ingridient_name': 'маслины', 'quantity': 10, 'measure': 'гр'},\n",
        "{'ingridient_name': 'оливковое масло', 'quantity': 20, 'measure': 'мл'},\n",
        "{'ingridient_name': 'салат', 'quantity': 10, 'measure': 'гр'},\n",
        "{'ingridient_name': 'перец', 'quantity': 20, 'measure': 'гр'}\n",
        "],\n",
        "'пицца': [\n",
        "{'ingridient_name': 'сыр', 'quantity': 20, 'measure': 'гр'},\n",
        "{'ingridient_name': 'колбаса', 'quantity': 30, 'measure': 'гр'},\n",
        "{'ingridient_name': 'бекон', 'quantity': 30, 'measure': 'гр'},\n",
        "{'ingridient_name': 'оливки', 'quantity': 10, 'measure': 'гр'},\n",
        "{'ingridient_name': 'томаты', 'quantity': 20, 'measure': 'гр'},\n",
        "{'ingridient_name': 'тесто', 'quantity': 100, 'measure': 'гр'},\n",
        "],\n",
        "'лимонад': [\n",
        "{'ingridient_name': 'лимон', 'quantity': 1, 'measure': 'шт'},\n",
        "{'ingridient_name': 'вода', 'quantity': 200, 'measure': 'мл'},\n",
        "{'ingridient_name': 'сахар', 'quantity': 10, 'measure': 'гр'},\n",
        "{'ingridient_name': 'лайм', 'quantity': 20, 'measure': 'гр'},\n",
        "]\n",
        "}\n",
        "\n",
        "book = copy.copy(cook_book)\n",
        "\n",
        "values = list(book.values())\n",
        "\n",
        "values_list = values[0] + values[1] + values[2]\n",
        "\n",
        "n = 0\n",
        "\n",
        "amount = int(input('Введите количество порций'))\n",
        "\n",
        "for value in values_list:\n",
        "    quantity = values_list[n]['quantity']\n",
        "    name = values_list[n]['ingridient_name']\n",
        "    measure = values_list[n]['measure']\n",
        "    n = n + 1\n",
        "    print(name,quantity * amount, measure)\n",
        "\n",
        "\n",
        "\n"
      ]
    },
    {
      "cell_type": "markdown",
      "metadata": {
        "id": "ZfSk5sdeOW3k"
      },
      "source": [
        "# Задание 6 По вебинару"
      ]
    },
    {
      "cell_type": "code",
      "execution_count": null,
      "metadata": {
        "id": "mnEowXVFOW3k"
      },
      "outputs": [],
      "source": [
        "person = 5"
      ]
    },
    {
      "cell_type": "code",
      "execution_count": null,
      "metadata": {
        "id": "DvFAC6nAOW3k",
        "outputId": "57716c6a-4d9e-4d1c-9e32-b96bd7035ff8"
      },
      "outputs": [
        {
          "name": "stdout",
          "output_type": "stream",
          "text": [
            "Сыр: 350 гр\n",
            "Томаты: 10 шт\n",
            "Огурцы: 100 гр\n",
            "Маслины: 50 гр\n",
            "Оливковое Масло: 100 мл\n",
            "Салат: 50 гр\n",
            "Перец: 100 гр\n",
            "Колбаса: 150 гр\n",
            "Бекон: 150 гр\n",
            "Оливки: 50 гр\n",
            "Томаты: 100 гр\n",
            "Тесто: 500 гр\n",
            "Лимон: 5 шт\n",
            "Вода: 1000 мл\n",
            "Сахар: 50 гр\n",
            "Лайм: 100 гр\n"
          ]
        }
      ],
      "source": [
        "shop_list = {}\n",
        "\n",
        "for dish in cook_book.values():\n",
        "    for ingredient in dish:\n",
        "        if  (ingredient['ingridient_name'], ingredient['measure']) not in shop_list:\n",
        "            shop_list[(ingredient['ingridient_name'], ingredient['measure'])] = ingredient['quantity'] * person\n",
        "        else:\n",
        "            shop_list[(ingredient['ingridient_name'], ingredient['measure'])] += ingredient['quantity'] * person\n",
        "\n",
        "\n",
        "\n",
        "for name, q in shop_list.items():\n",
        "    print(f'{name[0].title()}: {q} {name[1]}')"
      ]
    }
  ],
  "metadata": {
    "kernelspec": {
      "display_name": "Python 3",
      "language": "python",
      "name": "python3"
    },
    "language_info": {
      "codemirror_mode": {
        "name": "ipython",
        "version": 3
      },
      "file_extension": ".py",
      "mimetype": "text/x-python",
      "name": "python",
      "nbconvert_exporter": "python",
      "pygments_lexer": "ipython3",
      "version": "3.8.5"
    },
    "colab": {
      "provenance": []
    }
  },
  "nbformat": 4,
  "nbformat_minor": 0
}