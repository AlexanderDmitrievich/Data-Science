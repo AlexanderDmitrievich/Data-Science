{
  "cells": [
    {
      "cell_type": "markdown",
      "metadata": {
        "id": "Wm_wLmgBBNhS"
      },
      "source": [
        "# Задание 1\n",
        "Дана переменная, в которой хранится слово из латинских букв. Напишите код, который выводит на экран:\n",
        "\n",
        "среднюю букву, если число букв в слове нечетное;\n",
        "\n",
        "две средних буквы, если число букв четное.\n",
        "\n",
        "Примеры работы программы:\n",
        "\n",
        "word = 'test'\n",
        "\n",
        "Результат:\n",
        "es\n",
        "\n",
        "word = 'testing'\n",
        "\n",
        "Результат:\n",
        "t"
      ]
    },
    {
      "cell_type": "code",
      "execution_count": 3,
      "metadata": {
        "colab": {
          "base_uri": "https://localhost:8080/"
        },
        "id": "MaVDLc_PBNhU",
        "outputId": "409efaf8-2d57-43a5-e00a-c35040424e7b"
      },
      "outputs": [
        {
          "output_type": "stream",
          "name": "stdout",
          "text": [
            "h\n"
          ]
        }
      ],
      "source": [
        "word = 'testshsrkst'\n",
        "\n",
        "if len(word) % 2 == 0:\n",
        "    print (word[int(len(word) / 2-1)], word[int(len(word) / 2)])\n",
        "else:\n",
        "    print (word[int(len(word) / 2)])"
      ]
    },
    {
      "cell_type": "markdown",
      "metadata": {
        "id": "wFBbyYy3BNhW"
      },
      "source": [
        "# Задание 2\n",
        "Напишите программу, которая последовательно запрашивает у пользователя числа (по одному за раз) и после первого нуля выводит сумму всех ранее введенных чисел.\n",
        "\n",
        "Примеры работы программы:\n",
        "\n",
        "Введите число:  \n",
        "1\n",
        "\n",
        "Введите число:  \n",
        "4\n",
        "\n",
        "Введите число:  \n",
        "6\n",
        "\n",
        "Введите число:  \n",
        "0\n",
        "\n",
        "Результат:\n",
        "11\n",
        "\n",
        "Введите число:  \n",
        "0\n",
        "\n",
        "Результат:\n",
        "0"
      ]
    },
    {
      "cell_type": "code",
      "execution_count": null,
      "metadata": {
        "id": "xybi-jByBNhX",
        "outputId": "1fb7b208-a027-4ad5-ea8b-d3f4b048bf4f"
      },
      "outputs": [
        {
          "name": "stdout",
          "output_type": "stream",
          "text": [
            "Введите число5\n",
            "Введите число65\n",
            "Введите число7\n",
            "Введите число8\n",
            "Введите число0\n",
            "85\n"
          ]
        }
      ],
      "source": [
        "x = int(input('Введите число'))\n",
        "summ = 0\n",
        "\n",
        "while x != 0:\n",
        "    summ += x\n",
        "    x = int(input('Введите число'))\n",
        "print (summ)"
      ]
    },
    {
      "cell_type": "markdown",
      "metadata": {
        "id": "2nLr358iBNhX"
      },
      "source": [
        "# Задание 3\n",
        "Мы делаем MVP dating-сервиса, и у нас есть список парней и девушек.\n",
        "Выдвигаем гипотезу: лучшие рекомендации мы получим, если просто отсортируем имена по алфавиту и познакомим людей с одинаковыми индексами после сортировки! Но мы не будем никого знакомить, если кто-то может остаться без пары:\n",
        "\n",
        "Примеры работы программы:\n",
        "\n",
        "boys = ['Peter', 'Alex', 'John', 'Arthur', 'Richard']\n",
        "\n",
        "girls = ['Kate', 'Liza', 'Kira', 'Emma', 'Trisha']\n",
        "\n",
        "Результат:\n",
        "\n",
        "Идеальные пары:  \n",
        "Alex и Emma  \n",
        "Arthur и Kate  \n",
        "John и Kira  \n",
        "Peter и Liza  \n",
        "Richard и Trisha\n",
        "\n",
        "boys = ['Peter', 'Alex', 'John', 'Arthur', 'Richard', 'Michael']\n",
        "\n",
        "girls = ['Kate', 'Liza', 'Kira', 'Emma', 'Trisha']\n",
        "\n",
        "Результат:\n",
        "Внимание, кто-то может остаться без пары!\n"
      ]
    },
    {
      "cell_type": "code",
      "execution_count": 6,
      "metadata": {
        "colab": {
          "base_uri": "https://localhost:8080/"
        },
        "id": "CKl_RXdWBNhX",
        "outputId": "a7cfaa4d-9c81-4603-88e5-77f0f1976cd2"
      },
      "outputs": [
        {
          "output_type": "stream",
          "name": "stdout",
          "text": [
            "Идеальные пары:\n",
            "Alex и Emma\n",
            "Arthur и Kate\n",
            "John и Kira\n",
            "Peter и Liza\n",
            "Richard и Trisha\n"
          ]
        }
      ],
      "source": [
        "boys = ['Peter', 'Alex', 'John', 'Arthur', 'Richard']\n",
        "girls = ['Kate', 'Liza', 'Kira', 'Emma', 'Trisha']\n",
        "\n",
        "sort_boys = sorted(boys)\n",
        "sort_girls = sorted(girls)\n",
        "\n",
        "if len(boys) == len(girls):\n",
        "    pairs = zip (sort_boys, sort_girls)\n",
        "    list_pairs = (list(pairs))\n",
        "    print ('Идеальные пары:')\n",
        "    for name in list_pairs:\n",
        "        print (name[0], 'и', name[1])\n",
        "else:\n",
        "    print ('Внимание, кто-то может остаться без пары!')\n",
        "\n",
        "\n",
        "\n",
        "\n",
        ""
      ]
    },
    {
      "cell_type": "code",
      "source": [
        "boys = ['Peter', 'Alex', 'John', 'Arthur', 'Richard']\n",
        "girls = ['Kate', 'Liza', 'Kira', 'Emma', 'Trisha']\n",
        "\n",
        "sort_boys = sorted(boys)\n",
        "sort_girls = sorted(girls)\n",
        "\n",
        "if len(boys) == len(girls):\n",
        "  pairs = []\n",
        "  n=0\n",
        "  o=0\n",
        "  print ('Best pairs:')\n",
        "  while len(boys)-n != 0:\n",
        "    pairs.append(sort_boys[n])\n",
        "    pairs.append(sort_girls[n])\n",
        "    print (pairs[o], 'and', pairs[o+1])\n",
        "    o+=2\n",
        "    n+=1"
      ],
      "metadata": {
        "colab": {
          "base_uri": "https://localhost:8080/"
        },
        "id": "EcC1bih7ENAd",
        "outputId": "67dddbbd-26f8-42a7-d8e6-1a72d12e734e"
      },
      "execution_count": 27,
      "outputs": [
        {
          "output_type": "stream",
          "name": "stdout",
          "text": [
            "Best pairs:\n",
            "Alex and Emma\n",
            "Arthur and Kate\n",
            "John and Kira\n",
            "Peter and Liza\n",
            "Richard and Trisha\n"
          ]
        }
      ]
    },
    {
      "cell_type": "markdown",
      "metadata": {
        "id": "sMC3JxZ9BNhX"
      },
      "source": [
        "# Задание 4\n",
        "У нас есть список, содержащий информацию о среднедневной температуре в Фаренгейтах за произвольный период по странам (структура данных в примере). Необходимо написать код, который рассчитает среднюю температуру за период в Цельсиях(!) для каждой страны.\n",
        "\n",
        "Пример работы программы:\n",
        "\n",
        "countries_temperature = [\n",
        "    ['Таиланд', [75.2, 77, 78.8, 73.4, 68, 75.2, 77]],\n",
        "    ['Германия', [57.2, 55.4, 59, 59, 53.6]],\n",
        "    ['Россия', [35.6, 37.4, 39.2, 41, 42.8, 39.2, 35.6]],\n",
        "    ['Польша', [50, 50, 53.6, 57.2, 55.4, 55.4]]\n",
        "]\n",
        "\n",
        "Результат:\n",
        "\n",
        "Средняя температура в странах:\n",
        "Таиланд  -  23.9 С\n",
        "Германия  -  13.8 С\n",
        "Россия  -  3.7 С\n",
        "Польша  -  12.0 С"
      ]
    },
    {
      "cell_type": "code",
      "execution_count": 29,
      "metadata": {
        "colab": {
          "base_uri": "https://localhost:8080/"
        },
        "id": "wpSIc_RhBNhY",
        "outputId": "a400411b-3cff-4bb4-ef81-4547cb4023ab"
      },
      "outputs": [
        {
          "output_type": "stream",
          "name": "stdout",
          "text": [
            "Средняя температура в странах:\n",
            "Thailand - 23.9 C\n",
            "Germany - 13.8 C\n",
            "Russia - 3.7 C\n",
            "Poland - 12.0 C\n"
          ]
        }
      ],
      "source": [
        "countries_temperature = [\n",
        "    ['Thailand', [75.2, 77, 78.8, 73.4, 68, 75.2, 77]],\n",
        "    ['Germany', [57.2, 55.4, 59, 59, 53.6]],\n",
        "    ['Russia', [35.6, 37.4, 39.2, 41, 42.8, 39.2, 35.6]],\n",
        "    ['Poland', [50, 50, 53.6, 57.2, 55.4, 55.4]]\n",
        "]\n",
        "\n",
        "print ('Средняя температура в странах:')\n",
        "for coutem in countries_temperature:\n",
        "    avgtemp = round(((sum(coutem[1])/len(coutem[1])) - 32) / 1.8,1)\n",
        "    print (coutem[0], '-', avgtemp, 'C')"
      ]
    },
    {
      "cell_type": "markdown",
      "metadata": {
        "id": "z103tINOBNhY"
      },
      "source": [
        "# Задание 5 (необязательное)\n",
        "Дан поток логов по количеству просмотренных страниц для каждого пользователя (пользователь,дата;просмотры). Вам необходимо написать алгоритм, который считает среднее значение просмотров на пользователя. Т. е. надо посчитать отношение суммы всех просмотров к количеству уникальных пользователей. И тут регулярные выражения облегчат немного реализацию.\n",
        "\n",
        "Примеры работы программы:\n",
        "\n",
        "stream = [\n",
        "    'user4,2021-01-01;3',\n",
        "    'user3,2022-01-07;4',\n",
        "    'user2,2022-03-29;1',\n",
        "    'user1,2020-04-04;13',\n",
        "    'user2,2022-01-05;7',\n",
        "    'user1,2021-06-14;4',\n",
        "    'user3,2022-07-02;10',\n",
        "    'user4,2021-03-21;19',\n",
        "    'user4,2022-03-22;4',\n",
        "    'user4,2022-04-22;8',\n",
        "    'user4,2021-05-03;9',\n",
        "    'user4,2022-05-11;11'\n",
        "]\n",
        "\n",
        "Результат:\n",
        "Среднее количество просмотров на уникального пользователя: 23.25\n",
        "\n",
        "stream = [\n",
        "    'user100,2022-01-01;150',\n",
        "    'user99,2022-01-07;205',\n",
        "    'user1001,2022-03-29;81'\n",
        "]\n",
        "\n",
        "Результат:\n",
        "Среднее количество просмотров на уникального пользователя: 145.33"
      ]
    },
    {
      "cell_type": "code",
      "execution_count": null,
      "metadata": {
        "id": "O06Id-uJBNhY",
        "outputId": "f0bb0661-a615-454a-d9a9-30ba3b6230cd"
      },
      "outputs": [
        {
          "name": "stdout",
          "output_type": "stream",
          "text": [
            "Cреднее количество просмотров на уникального пользователя: 23.25\n"
          ]
        }
      ],
      "source": [
        "stream = [\n",
        "    '2018-01-01,user1,3',\n",
        "    '2018-01-07,user1,4',\n",
        "    '2018-03-29,user1,1',\n",
        "    '2018-04-04,user1,13',\n",
        "    '2018-01-05,user2,7',\n",
        "    '2018-06-14,user3,4',\n",
        "    '2018-07-02,user3,10',\n",
        "    '2018-03-21,user4,19',\n",
        "    '2018-03-22,user4,4',\n",
        "    '2018-04-22,user4,8',\n",
        "    '2018-05-03,user4,9',\n",
        "    '2018-05-11,user4,11',\n",
        "]\n",
        "\n",
        "sum_watch = 0\n",
        "users = []\n",
        "\n",
        "for user in stream:\n",
        "    usernew = user.split(',')\n",
        "    sum_watch = sum_watch + int(usernew[2])\n",
        "    if usernew[1] not in users:\n",
        "        users.append(usernew[1])\n",
        "print('Cреднее количество просмотров на уникального пользователя:',round(sum_watch/len(users),2))\n",
        "\n",
        ""
      ]
    }
  ],
  "metadata": {
    "kernelspec": {
      "display_name": "Python 3",
      "language": "python",
      "name": "python3"
    },
    "language_info": {
      "codemirror_mode": {
        "name": "ipython",
        "version": 3
      },
      "file_extension": ".py",
      "mimetype": "text/x-python",
      "name": "python",
      "nbconvert_exporter": "python",
      "pygments_lexer": "ipython3",
      "version": "3.8.5"
    },
    "colab": {
      "provenance": []
    }
  },
  "nbformat": 4,
  "nbformat_minor": 0
}