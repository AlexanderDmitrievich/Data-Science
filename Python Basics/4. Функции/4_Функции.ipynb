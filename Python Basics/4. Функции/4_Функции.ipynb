{
  "cells": [
    {
      "cell_type": "markdown",
      "metadata": {
        "id": "mQK_l2CTmntM"
      },
      "source": [
        "# Задание к лекции \"Функции\"\n",
        "Вам нужно помочь секретарю автоматизировать работу. Для этого нужно написать программу, которая будет на основе хранимых данных исполнять пользовательские команды.\n",
        "\n",
        "Исходные данные имеют следующую структуру:\n",
        "\n",
        "перечень всех документов\n",
        "documents = [\n",
        "    {'type': 'passport', 'number': '2207 876234', 'name': 'Василий Гупкин'},\n",
        "    {'type': 'invoice', 'number': '11-2', 'name': 'Геннадий Покемонов'},\n",
        "    {'type': 'insurance', 'number': '10006', 'name': 'Аристарх Павлов'}\n",
        "]\n",
        "\n",
        "перечень полок, на которых хранятся документы (если документ есть в documents, то он обязательно должен быть и в directories)\n",
        "directories = {\n",
        "    '1': ['2207 876234', '11-2'],\n",
        "    '2': ['10006'],\n",
        "    '3': []\n",
        "}\n",
        "\n",
        "Общие требования к программе:\n",
        "\n",
        "Код должен быть грамотно декомпозирован (каждая функция отвечает за свою конкретную задачу, дублирующийся функционал переиспользуется, а его код не повторяется);\n",
        "\n",
        "в коде отсутствуют глобальные переменные (за исключением documents и directories);\n",
        "\n",
        "пользовательский ввод обрабатывается в цикле while до тех пор, пока пользователь явно не завершит программу (вводом команды \"q\")."
      ]
    },
    {
      "cell_type": "code",
      "execution_count": 1,
      "metadata": {
        "id": "nneKJoD9mntN"
      },
      "outputs": [],
      "source": [
        "documents = [\n",
        " {'type': 'passport', 'number': '2207 876234', 'name': 'Василий Гупкин'},\n",
        " {'type': 'invoice', 'number': '11-2', 'name': 'Геннадий Покемонов'},\n",
        " {'type': 'insurance', 'number': '10006', 'name': 'Аристарх Павлов'}\n",
        "]\n",
        "\n"
      ]
    },
    {
      "cell_type": "code",
      "execution_count": 2,
      "metadata": {
        "id": "IUv-EhTzmntO"
      },
      "outputs": [],
      "source": [
        "directories = {\n",
        " '1': ['2207 876234', '11-2'],\n",
        " '2': ['10006'],\n",
        " '3': []\n",
        "}\n",
        "\n"
      ]
    },
    {
      "cell_type": "markdown",
      "metadata": {
        "id": "Y8M5VvM4mntO"
      },
      "source": [
        "# Operator"
      ]
    },
    {
      "cell_type": "code",
      "execution_count": 13,
      "metadata": {
        "colab": {
          "base_uri": "https://localhost:8080/"
        },
        "id": "qdWXYe37mntO",
        "outputId": "ec47f971-6d2a-4364-af9d-fbe74bbcb2bf"
      },
      "outputs": [
        {
          "name": "stdout",
          "output_type": "stream",
          "text": [
            "Введите команду l\n",
            "№: 2207 876234, тип: passport, владелец: Василий Гупкин, полка хранения: 1\n",
            "№: 11-2, тип: invoice, владелец: Геннадий Покемонов, полка хранения: 1\n",
            "№: 10006, тип: insurance, владелец: Аристарх Павлов, полка хранения: 2\n",
            "None\n",
            "Введите команду q\n"
          ]
        }
      ],
      "source": [
        "def input_user():\n",
        "    while True:\n",
        "        comand = input('Введите команду ')\n",
        "        if comand == 'p':\n",
        "            print(doc_owner(documents))\n",
        "        elif comand == 's':\n",
        "            print(doc_shelf(directories))\n",
        "        elif comand == 'l':\n",
        "            print(doc_info(documents, directories))\n",
        "        elif comand == 'as':\n",
        "            print(add_shelf(direct))\n",
        "        elif comand == 'ds':\n",
        "            print(del_doc(direct))\n",
        "        elif comand == 'q':\n",
        "            break\n",
        "        else:\n",
        "            print ('no')\n",
        "    return\n",
        "\n",
        "input_user()\n",
        "\n",
        ""
      ]
    },
    {
      "cell_type": "markdown",
      "metadata": {
        "id": "2Kl6zTuqmntP"
      },
      "source": [
        "# Задание 1\n",
        "Пункт 1. Пользователь по команде \"p\" может узнать владельца документа по его номеру\n",
        "Примеры работы:\n",
        "\n",
        "Введите команду:\n",
        "p\n",
        "\n",
        "Введите номер документа:\n",
        "10006\n",
        "\n",
        "Результат:\n",
        "Владелец документа: Аристарх Павлов\n",
        "\n",
        "Введите команду:\n",
        "p\n",
        "\n",
        "Введите номер документа:\n",
        "12345\n",
        "\n",
        "Результат:\n",
        "Документ не найден в базе"
      ]
    },
    {
      "cell_type": "code",
      "execution_count": 5,
      "metadata": {
        "colab": {
          "base_uri": "https://localhost:8080/",
          "height": 53
        },
        "id": "tozK4qvZmntP",
        "outputId": "f646c54e-090a-46f6-b7f2-3d019e78c3e8"
      },
      "outputs": [
        {
          "name": "stdout",
          "output_type": "stream",
          "text": [
            "Введите номер документа 10006\n"
          ]
        },
        {
          "output_type": "execute_result",
          "data": {
            "text/plain": [
              "'Владелец документа: Аристарх Павлов'"
            ],
            "application/vnd.google.colaboratory.intrinsic+json": {
              "type": "string"
            }
          },
          "metadata": {},
          "execution_count": 5
        }
      ],
      "source": [
        "def doc_owner(names):\n",
        "    num_doc = input('Введите номер документа ')\n",
        "    for numbers in names:\n",
        "        if num_doc == numbers['number']:\n",
        "            return (f\"Владелец документа: {numbers['name']}\")\n",
        "    return ('Документ не найден в базе')\n",
        "\n",
        "\n",
        "doc_owner(documents)\n"
      ]
    },
    {
      "cell_type": "markdown",
      "metadata": {
        "id": "AlG5hP2imntP"
      },
      "source": [
        "# Пункт 2. Пользователь по команде \"s\" может по номеру документа узнать на какой полке он хранится\n",
        "Примеры работы:\n",
        "\n",
        "Введите команду:\n",
        "s\n",
        "\n",
        "Введите номер документа:\n",
        "10006\n",
        "\n",
        "Результат:\n",
        "Документ хранится на полке: 2\n",
        "\n",
        "Введите команду:\n",
        "s\n",
        "\n",
        "Введите номер документа:\n",
        "12345\n",
        "\n",
        "Результат:\n",
        "Документ не найден в базе"
      ]
    },
    {
      "cell_type": "code",
      "execution_count": 6,
      "metadata": {
        "colab": {
          "base_uri": "https://localhost:8080/",
          "height": 53
        },
        "id": "NLJFXIBFmntP",
        "outputId": "08f38e79-e21a-4dcf-eef4-38a3c4344f3d"
      },
      "outputs": [
        {
          "name": "stdout",
          "output_type": "stream",
          "text": [
            "Введите номер документа 10006\n"
          ]
        },
        {
          "output_type": "execute_result",
          "data": {
            "text/plain": [
              "'Документ хранится на полке: 2'"
            ],
            "application/vnd.google.colaboratory.intrinsic+json": {
              "type": "string"
            }
          },
          "metadata": {},
          "execution_count": 6
        }
      ],
      "source": [
        "def doc_shelf(shelfs):\n",
        "    doc_num = input('Введите номер документа ')\n",
        "    for key, number in shelfs.items():\n",
        "        for numbers in number:\n",
        "            if doc_num == (numbers):\n",
        "                return (f'Документ хранится на полке: {key}')\n",
        "    return ('Документ не найден в базе')\n",
        "\n",
        "doc_shelf(directories)\n"
      ]
    },
    {
      "cell_type": "markdown",
      "metadata": {
        "id": "6AlbZUVQmntQ"
      },
      "source": [
        "# Пункт 3. Пользователь по команде \"l\" может увидеть полную информацию по всем документам\n",
        "Пример работы:\n",
        "\n",
        "Введите команду:\n",
        "l\n",
        "\n",
        "Результат:\n",
        "\n",
        "№: 2207 876234, тип: passport, владелец: Василий Гупкин, полка хранения: 1\n",
        "№: 11-2, тип: invoice, владелец: Геннадий Покемонов, полка хранения: 1\n",
        "№: 10006, тип: insurance, владелец: Аристарх Павлов, полка хранения: 2"
      ]
    },
    {
      "cell_type": "code",
      "execution_count": 7,
      "metadata": {
        "colab": {
          "base_uri": "https://localhost:8080/"
        },
        "id": "ypydFbBkmntQ",
        "outputId": "41cb63c4-89fa-4ea3-800b-de530e1510c2"
      },
      "outputs": [
        {
          "output_type": "stream",
          "name": "stdout",
          "text": [
            "№: 2207 876234, тип: passport, владелец: Василий Гупкин, полка хранения: 1\n",
            "№: 11-2, тип: invoice, владелец: Геннадий Покемонов, полка хранения: 1\n",
            "№: 10006, тип: insurance, владелец: Аристарх Павлов, полка хранения: 2\n"
          ]
        }
      ],
      "source": [
        "def doc_info(docs, dirs):\n",
        "    for numbers in docs:\n",
        "        doc_num = numbers['number']\n",
        "        for key, values in dirs.items():\n",
        "            if doc_num in values:\n",
        "                print (f\"№: {numbers['number']}, тип: {numbers['type']}, владелец: {numbers['name']}, полка хранения: {key}\")\n",
        "\n",
        "\n",
        "doc_info(documents, directories)"
      ]
    },
    {
      "cell_type": "markdown",
      "metadata": {
        "id": "i6ya-XComntQ"
      },
      "source": [
        "# Пункт 4. Пользователь по команде \"ads\" может добавить новую полку\n",
        "Примеры работы:\n",
        "\n",
        "Введите команду:\n",
        "ads\n",
        "\n",
        "Введите номер полки:\n",
        "10\n",
        "\n",
        "Результат:\n",
        "Полка добавлена. Текущий перечень полок: 1, 2, 3, 10.\n",
        "\n",
        "Введите команду:\n",
        "ads\n",
        "\n",
        "Введите номер полки:\n",
        "1\n",
        "\n",
        "Результат:\n",
        "Такая полка уже существует. Текущий перечень полок: 1, 2, 3."
      ]
    },
    {
      "cell_type": "code",
      "execution_count": 9,
      "metadata": {
        "colab": {
          "base_uri": "https://localhost:8080/"
        },
        "id": "2VIP3kHhmntQ",
        "outputId": "84d754c4-f40b-4f29-c07d-429cc3f03187"
      },
      "outputs": [
        {
          "name": "stdout",
          "output_type": "stream",
          "text": [
            "Введите номер полки 5\n"
          ]
        }
      ],
      "source": [
        "def add_shelf(shelf):\n",
        "    sh_num = input('Введите номер полки ')\n",
        "    if sh_num in list(directories):\n",
        "        print ('no')\n",
        "    else:\n",
        "        directories[sh_num] = []\n",
        "\n",
        "add_shelf(directories)\n",
        ""
      ]
    },
    {
      "cell_type": "markdown",
      "metadata": {
        "id": "_CadCb9jmntR"
      },
      "source": [
        "# Пункт 5. Пользователь по команде \"ds\" может удалить существующую полку из данных (только если она пустая)\n",
        "Примеры работы:\n",
        "\n",
        "Введите команду:\n",
        "ds\n",
        "\n",
        "Введите номер полки:\n",
        "3\n",
        "\n",
        "Результат:\n",
        "Полка удалена. Текущий перечень полок: 1, 2.\n",
        "\n",
        "Введите команду:\n",
        "ds\n",
        "\n",
        "Введите номер полки:\n",
        "1\n",
        "\n",
        "Результат:\n",
        "На полке есть документа, удалите их перед удалением полки. Текущий перечень полок: 1, 2, 3.\n",
        "\n",
        "Введите команду:\n",
        "ds\n",
        "\n",
        "Введите номер полки:\n",
        "4\n",
        "\n",
        "Результат:\n",
        "Такой полки не существует. Текущий перечень полок: 1, 2, 3."
      ]
    },
    {
      "cell_type": "code",
      "execution_count": 11,
      "metadata": {
        "colab": {
          "base_uri": "https://localhost:8080/"
        },
        "id": "nfunroMfmntR",
        "outputId": "63e2fbf6-b463-4b3d-d95b-9fdffa9f2ea1"
      },
      "outputs": [
        {
          "output_type": "stream",
          "name": "stdout",
          "text": [
            "Введите номер полки 2\n",
            "shelf have values\n"
          ]
        }
      ],
      "source": [
        "def del_doc(doc):\n",
        "    input_shelf = input('Введите номер полки ')\n",
        "    if input_shelf not in directories:\n",
        "        print ('no shelf')\n",
        "    elif input_shelf in directories and len(directories[input_shelf]) == 0:\n",
        "        del(directories[input_shelf])\n",
        "    else:\n",
        "        print ('shelf have values')\n",
        "\n",
        "del_doc(directories)"
      ]
    },
    {
      "cell_type": "code",
      "source": [],
      "metadata": {
        "id": "y-AOmTDEqNj-"
      },
      "execution_count": null,
      "outputs": []
    }
  ],
  "metadata": {
    "kernelspec": {
      "display_name": "Python 3",
      "language": "python",
      "name": "python3"
    },
    "language_info": {
      "codemirror_mode": {
        "name": "ipython",
        "version": 3
      },
      "file_extension": ".py",
      "mimetype": "text/x-python",
      "name": "python",
      "nbconvert_exporter": "python",
      "pygments_lexer": "ipython3",
      "version": "3.8.5"
    },
    "colab": {
      "provenance": []
    }
  },
  "nbformat": 4,
  "nbformat_minor": 0
}